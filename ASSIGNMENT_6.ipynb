{
 "cells": [
  {
   "cell_type": "code",
   "execution_count": null,
   "metadata": {},
   "outputs": [],
   "source": [
    "# OBJECT-ORIENTED PROGRAMMING LANGUAGE\n",
    "An object-oriented programming language (OOPL) is a high-level programming language based on the object-oriented model.\n",
    "In this, programmers define the data type of a data structure,and also the types of operations that can be applied to the data structure.\n",
    "Examples of object-oriented programming languages include Java and C++ etc. "
   ]
  },
  {
   "cell_type": "code",
   "execution_count": null,
   "metadata": {},
   "outputs": [],
   "source": [
    "# BENIFITS OF OOP\n",
    "1)One of the principal advantages of object-oriented programming techniques over procedural programming techniques is that\n",
    "they enable programmers to create modules that do not need to be changed when a new type of object is added. \n",
    "2)A programmer can simply create a new object that inherits many of its features from existing objects.\n",
    "3)This makes object-oriented programs easier to modify.\n",
    "4)It also makes the software easier to maintain and also enables faster development.\n",
    "5)Effective problem solving.\n"
   ]
  },
  {
   "cell_type": "code",
   "execution_count": null,
   "metadata": {},
   "outputs": [],
   "source": [
    "#DIFFERENCE BETWEEN METHODS AND FUNCTIONS\n",
    "# Function\n",
    "A function is a block of code to carry out a specific task, will contain its own scope and is called by name.\n",
    "# Method\n",
    "it is associated with object/classes for which it is called and it is accessible to data that is contained within the class."
   ]
  },
  {
   "cell_type": "code",
   "execution_count": null,
   "metadata": {},
   "outputs": [],
   "source": [
    "#CLASS\n",
    "The class defines all the common properties of the different objects that belong to it.\n",
    "#OBJECT\n",
    "A self-contained entity that consists of both data and procedures to manipulate the data.\n",
    "#Attributes \n",
    "attributes are data stored inside a class or instance and represent the state or quality of the class or \n",
    "instance. In short, attributes store information about the instance. Also, attributes should not be\n",
    "confused with class functions also known as methods. \n",
    "\n",
    "#Behavior\n",
    "The behavior of an object is defined by its methods, which are the functions and subroutines defined within the object class.\n",
    "Without class methods, a class would simply be a structure.\n"
   ]
  },
  {
   "cell_type": "code",
   "execution_count": 21,
   "metadata": {
    "scrolled": true
   },
   "outputs": [
    {
     "name": "stdout",
     "output_type": "stream",
     "text": [
      "rollsroyce\n",
      "Sweptail\n",
      "phantom\n",
      "july 2017\n",
      "6.96 cr\n"
     ]
    }
   ],
   "source": [
    "#class\n",
    "\n",
    "class Car:\n",
    "\n",
    "    def __init__( self,name, model, color, year, cost):\n",
    "        self.name = name\n",
    "        self.model = model\n",
    "        self.color = color\n",
    "        self.year = year\n",
    "        self.cost = cost\n",
    "        \n",
    "Car=Car(\n",
    "    \"rollsroyce\",\n",
    "    \"Sweptail\",\n",
    "    \"phantom\",\n",
    "    \"july 2017\",\n",
    "    \"6.96 cr\",\n",
    ")\n",
    "\n",
    "print(Car.name)   \n",
    "print(Car.model)\n",
    "print(Car.color)\n",
    "print(Car.year)\n",
    "print(Car.cost)\n",
    "\n"
   ]
  }
 ],
 "metadata": {
  "kernelspec": {
   "display_name": "Python 3",
   "language": "python",
   "name": "python3"
  },
  "language_info": {
   "codemirror_mode": {
    "name": "ipython",
    "version": 3
   },
   "file_extension": ".py",
   "mimetype": "text/x-python",
   "name": "python",
   "nbconvert_exporter": "python",
   "pygments_lexer": "ipython3",
   "version": "3.7.4"
  }
 },
 "nbformat": 4,
 "nbformat_minor": 2
}
