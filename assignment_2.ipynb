{
 "cells": [
  {
   "cell_type": "code",
   "execution_count": 10,
   "metadata": {},
   "outputs": [
    {
     "name": "stdout",
     "output_type": "stream",
     "text": [
      "Enter number of subjects : 5\n",
      "Enter Subject 1 marks: 70\n",
      "Enter Subject 2 marks: 75\n",
      "Enter Subject 3 marks: 65\n",
      "Enter Subject 4 marks: 80\n",
      "Enter Subject 5 marks: 85\n",
      "You secure Grade B and your percentage is :  75.0 %\n"
     ]
    }
   ],
   "source": [
    "#marksheet using grade\n",
    "\n",
    "number_of_subjects = int(input(\"Enter number of subjects : \"))\n",
    "marks = []\n",
    "for i in range(1, number_of_subjects+1):\n",
    " n= int(input(\"Enter Subject {0} marks: \".format(i)))\n",
    " marks.append(n)\n",
    "avg = sum(marks)/number_of_subjects\n",
    "if avg >= 80:\n",
    " print(\"You secure Grade A and your percentage is : \", round(avg, 2), \"%\")\n",
    "elif avg >= 60 and avg < 80:\n",
    " print(\"You secure Grade B and your percentage is : \", round(avg, 2), \"%\")\n",
    "elif avg >= 40 and avg < 60:\n",
    " print(\"You secure Grade C and your percentage is : \", round(avg, 2), \"%\")\n",
    "else:\n",
    " print(\"You secure Grade D and your percentage is : \", round(avg, 2), \"%\")"
   ]
  },
  {
   "cell_type": "code",
   "execution_count": 11,
   "metadata": {},
   "outputs": [
    {
     "name": "stdout",
     "output_type": "stream",
     "text": [
      "Enter a number: 1\n",
      "The number is odd: \n"
     ]
    }
   ],
   "source": [
    "#identifying that the given number is even or odd\n",
    "\n",
    "num=int(input(\"Enter a number: \"))\n",
    "if (num>=2):\n",
    "   print(\"The number is even: \")\n",
    "else:\n",
    "    print(\"The number is odd: \")"
   ]
  },
  {
   "cell_type": "code",
   "execution_count": 13,
   "metadata": {},
   "outputs": [
    {
     "name": "stdout",
     "output_type": "stream",
     "text": [
      "6\n"
     ]
    }
   ],
   "source": [
    "# length of the list \n",
    "\n",
    "list=[1,2,3,11,12,1999]\n",
    "print(len(list))"
   ]
  },
  {
   "cell_type": "code",
   "execution_count": 17,
   "metadata": {},
   "outputs": [
    {
     "name": "stdout",
     "output_type": "stream",
     "text": [
      "sum of all numeric items in the list:  2022\n"
     ]
    }
   ],
   "source": [
    "# Python program to sum all numeric items in the list\n",
    "\n",
    "list1=[11+12+1999]\n",
    "total=sum(list1)\n",
    "print(\"sum of all numeric items in the list: \",total )"
   ]
  },
  {
   "cell_type": "code",
   "execution_count": 21,
   "metadata": {},
   "outputs": [
    {
     "name": "stdout",
     "output_type": "stream",
     "text": [
      "Largest element is: 99\n"
     ]
    }
   ],
   "source": [
    "# Python program to find largest number in a list \n",
    "\n",
    "list1 = [10, 20, 4, 45, 99]  \n",
    "list1.sort() \n",
    "print(\"Largest element is:\", list1[-1]) "
   ]
  },
  {
   "cell_type": "code",
   "execution_count": 33,
   "metadata": {},
   "outputs": [
    {
     "name": "stdout",
     "output_type": "stream",
     "text": [
      "1\n",
      "1\n",
      "2\n",
      "3\n",
      "4\n",
      "1\n",
      "1\n",
      "2\n",
      "3\n",
      "4\n"
     ]
    }
   ],
   "source": [
    "#all elements in list less than 5\n",
    "\n",
    "a = [1,1,2,3,4,8,13,21,34,55,89]\n",
    "\n",
    "def print_less_than_five():\n",
    "    for i in range(len(a)):\n",
    "        if a[i]<5:\n",
    "            print(a[i])\n",
    "\n",
    "    for i in a:\n",
    "        if i<5:\n",
    "            print(i)\n",
    "print_less_than_five()"
   ]
  }
 ],
 "metadata": {
  "kernelspec": {
   "display_name": "Python 3",
   "language": "python",
   "name": "python3"
  },
  "language_info": {
   "codemirror_mode": {
    "name": "ipython",
    "version": 3
   },
   "file_extension": ".py",
   "mimetype": "text/x-python",
   "name": "python",
   "nbconvert_exporter": "python",
   "pygments_lexer": "ipython3",
   "version": "3.7.4"
  }
 },
 "nbformat": 4,
 "nbformat_minor": 2
}
